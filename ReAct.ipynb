{
 "cells": [
  {
   "cell_type": "markdown",
   "metadata": {},
   "source": [
    "Building LLM Agent using reasoning and Action framework with the help of LangChain"
   ]
  },
  {
   "cell_type": "markdown",
   "metadata": {},
   "source": [
    "ReAct is a technique that empowers Language Models (LLMs) to engage in reasoning and undertake task-specific actions. It amalgamates chain of thought reasoning with action planning, facilitating LLMs to generate reasoning traces and execute task-specific actions by leveraging their synergy. This methodology showcases superior performance compared to baselines across various tasks, effectively mitigating issues such as hallucination and error propagation.\n",
    "\n",
    "To implement ReAct in our application, we will utilize the OPENAI ChatGPT model. Integration with the ChatGPT model can be achieved through the API provided by OpenAI. To access the API, registration with OpenAI is necessary to obtain the API key.\n",
    "\n",
    "For demonstration purposes, we will employ the Langchain framework and Python code. You can utilize this code within your applications and refer to the Langchain website for additional code references. Ensure that you have the required Python libraries installed to run the code effectively."
   ]
  },
  {
   "cell_type": "code",
   "execution_count": null,
   "metadata": {
    "vscode": {
     "languageId": "plaintext"
    }
   },
   "outputs": [],
   "source": [
    "pip install openai\n",
    "pip install langchain\n",
    "pip install wikipedia"
   ]
  },
  {
   "cell_type": "code",
   "execution_count": null,
   "metadata": {
    "vscode": {
     "languageId": "plaintext"
    }
   },
   "outputs": [],
   "source": [
    "import openai\n",
    "import os\n",
    "openai.api_key = os.getenv('OPENAI_API_KEY')"
   ]
  },
  {
   "cell_type": "code",
   "execution_count": null,
   "metadata": {
    "vscode": {
     "languageId": "plaintext"
    }
   },
   "outputs": [],
   "source": [
    "from langchain.agents.react.base import DocstoreExplore\n",
    "from langchain.docstore import Wikipedia\n",
    "docstore = DocstoreExplorer(Wikipedia())"
   ]
  },
  {
   "cell_type": "code",
   "execution_count": null,
   "metadata": {
    "vscode": {
     "languageId": "plaintext"
    }
   },
   "outputs": [],
   "source": [
    "from langchain.agents import Tool\n",
    "tools = [\n",
    "    Tool(\n",
    "        name=\"Search\",\n",
    "        function=docstore.search,\n",
    "        desc=\"useful for when you need to ask with search\",\n",
    "    ),\n",
    "    Tool(\n",
    "        name=\"Lookup\",\n",
    "        func=docstore.lookup,\n",
    "        desc=\"useful for when you need to ask with search\",\n",
    "    ),\n",
    "]"
   ]
  },
  {
   "cell_type": "code",
   "execution_count": null,
   "metadata": {
    "vscode": {
     "languageId": "plaintext"
    }
   },
   "outputs": [],
   "source": [
    "from langchain.chat_models import ChatOpenAI\n",
    "llm = ChatOpenAI(model_name=\"gpt-4\")"
   ]
  },
  {
   "cell_type": "code",
   "execution_count": null,
   "metadata": {
    "vscode": {
     "languageId": "plaintext"
    }
   },
   "outputs": [],
   "source": [
    "from langchain.agents import AgentType, initiaize_agent\n",
    "react = initiaize_agent(tools, llm, agent=AgentType.REACT_DOCSTORE, verbose=True)"
   ]
  },
  {
   "cell_type": "code",
   "execution_count": null,
   "metadata": {
    "vscode": {
     "languageId": "plaintext"
    }
   },
   "outputs": [],
   "source": [
    "ques=\"What profession does Ranveer Singh and Shahid Kapoor have in common?\"\n",
    "ans = react.run(ques)"
   ]
  },
  {
   "cell_type": "code",
   "execution_count": null,
   "metadata": {
    "vscode": {
     "languageId": "plaintext"
    }
   },
   "outputs": [],
   "source": [
    "ans"
   ]
  }
 ],
 "metadata": {
  "language_info": {
   "name": "python"
  }
 },
 "nbformat": 4,
 "nbformat_minor": 2
}
